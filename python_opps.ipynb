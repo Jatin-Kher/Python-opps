{
  "nbformat": 4,
  "nbformat_minor": 0,
  "metadata": {
    "colab": {
      "provenance": []
    },
    "kernelspec": {
      "name": "python3",
      "display_name": "Python 3"
    },
    "language_info": {
      "name": "python"
    }
  },
  "cells": [
    {
      "cell_type": "markdown",
      "source": [
        "# Python OOPs Assignment"
      ],
      "metadata": {
        "id": "Fmfyb7xr-5kn"
      }
    },
    {
      "cell_type": "markdown",
      "source": [
        "### theory questions"
      ],
      "metadata": {
        "id": "P31id7YK_A7a"
      }
    },
    {
      "cell_type": "markdown",
      "source": [
        "Q1. What is Object-Oriented Programming (OOP)?\n",
        "\n",
        "Answer: OOP is a programming paradigm based on the concept of objects that contain data (attributes) and methods (functions).\n",
        "It helps organize code into reusable and modular components.\n",
        "\n",
        "\n",
        "Q2. What is a class in OOP?\n",
        "\n",
        "Answer: A class is a blueprint or template for creating objects. It defines attributes and methods.\n",
        "Example:\n",
        "\n",
        "    class Car:\n",
        "      def drive(self): print(\"Car is driving\")\n",
        "\n",
        "Q3. What is an object in OOP?\n",
        "\n",
        "Answer: An object is an instance of a class that has real data and behavior defined by the class.\n",
        "Example:\n",
        "\n",
        "    c = Car()\n",
        "    c.drive()\n",
        "\n",
        "\n",
        "Q4. What is the difference between abstraction and encapsulation?\n",
        "\n",
        "Answer: Abstraction hides complex details and shows only essentials, while encapsulation hides data using private variables and methods.\n",
        "\n",
        "\n",
        "Q5. What are dunder methods in Python?\n",
        "\n",
        "Answer: Dunder (double underscore) methods are special built-in methods like __init__, __str__, etc., used for customizing behavior.\n",
        "Example:\n",
        "\n",
        "    class A:\n",
        "        def __str__(self): return \"Object of A\"\n",
        "\n",
        "\n",
        "Q6. Explain the concept of inheritance in OOP.\n",
        "\n",
        "Answer: Inheritance allows a class to acquire properties and methods from another class.\n",
        "Example:\n",
        "\n",
        "    class Dog(Animal): pass\n",
        "\n",
        "\n",
        "Q7. What is polymorphism in OOP?\n",
        "\n",
        "Answer: Polymorphism means one interface, many forms, where different classes can define methods with the same name but different behaviors.\n",
        "\n",
        "\n",
        "Q8. How is encapsulation achieved in Python?\n",
        "\n",
        "Answer: Encapsulation is achieved using private variables (with __) and getter/setter methods to control access.\n",
        "Example:\n",
        "\n",
        "    class A:\n",
        "        def __init__(self): self.__x=10\n",
        "\n",
        "\n",
        "Q9. What is a constructor in Python?\n",
        "\n",
        "Answer: A constructor (__init__) is a special method called automatically when an object is created.\n",
        "Example:\n",
        "\n",
        "    class A:\n",
        "        def __init__(self): print(\"Created\")\n",
        "\n",
        "\n",
        "Q10. What are class and static methods in Python?\n",
        "\n",
        "Answer: Class methods use @classmethod and access class variables, while static methods (@staticmethod) don’t depend on class or instance.\n",
        "\n",
        "\n",
        "Q11. What is method overloading in Python?\n",
        "\n",
        "Answer: Python doesn’t support traditional overloading; you can use default or variable arguments instead.\n",
        "Example:\n",
        "\n",
        "    def add(a,b=0): return a+b\n",
        "\n",
        "\n",
        "Q12. What is method overriding in OOP?\n",
        "Answer: Method overriding occurs when a subclass defines a method with the same name as in its parent class to change behavior.\n",
        "\n",
        "\n",
        "\n",
        "Q13. What is a property decorator in Python?\n",
        "Answer: @property converts a method into an attribute-like access for encapsulated data.\n",
        "Example:\n",
        "\n",
        "    class A:\n",
        "        @property\n",
        "        def name(self): return \"John\"\n",
        "\n",
        "\n",
        "\n",
        "Q14. Why is polymorphism important in OOP?\n",
        "\n",
        "Answer: It improves flexibility and reusability, allowing functions to handle objects of different types uniformly.\n",
        "\n",
        "\n",
        "\n",
        "\n",
        "\n",
        "Q15. What is an abstract class in Python?\n",
        "\n",
        "Answer: An abstract class defines abstract methods that must be implemented by subclasses (using abc module).\n",
        "\n",
        "\n",
        "\n",
        "\n",
        "Q16. What are the advantages of OOP?\n",
        "\n",
        "Answer: OOP provides modularity, reusability, abstraction, and easy maintenance of code.\n",
        "\n",
        "\n",
        "\n",
        "\n",
        "Q17. What is the difference between a class variable and an instance variable?\n",
        "\n",
        "Answer: Class variables are shared by all objects, while instance variables are unique to each object.\n",
        "\n",
        "\n",
        "\n",
        "\n",
        "Q18. What is multiple inheritance in Python?\n",
        "\n",
        "Answer: Multiple inheritance allows a class to inherit from more than one parent class.\n",
        "Example:\n",
        "\n",
        "    class C(A,B): pass\n",
        "\n",
        "\n",
        "Q19. Explain the purpose of __str__ and __repr__ methods in Python.\n",
        "\n",
        "Answer: __str__ gives a user-friendly string, while __repr__ gives a developer-friendly representation.\n",
        "\n",
        "\n",
        "\n",
        "\n",
        "Q20. What is the significance of the super() function in Python?\n",
        "\n",
        "Answer: super() calls the parent class’s method in a subclass, often used inside constructors.\n",
        "\n",
        "\n",
        "\n",
        "\n",
        "Q21. What is the significance of the __del__ method in Python?\n",
        "\n",
        "Answer: __del__ is a destructor that runs automatically when an object is deleted to release resources.\n",
        "\n",
        "\n",
        "\n",
        "\n",
        "Q22. What is the difference between @staticmethod and @classmethod in Python?\n",
        "\n",
        "Answer: @classmethod takes cls as parameter and accesses class data, while @staticmethod takes neither self nor cls.\n",
        "\n",
        "\n",
        "\n",
        "\n",
        "Q23. How does polymorphism work in Python with inheritance?\n",
        "\n",
        "Answer: Subclasses can override parent methods, and the correct version runs depending on the object type at runtime.\n",
        "\n",
        "\n",
        "\n",
        "\n",
        "Q24. What is method chaining in Python OOP?\n",
        "\n",
        "Answer: Method chaining allows multiple method calls in one line by returning self.\n",
        "Example:\n",
        "\n",
        "    obj.setA(5).setB(10)\n",
        "\n",
        "\n",
        "Q25. What is the purpose of the __call__ method in Python?\n",
        "\n",
        "Answer: __call__ lets an object behave like a function, allowing it to be invoked with ().\n",
        "Example:\n",
        "\n",
        "    class A:\n",
        "        def __call__(self): print(\"Called\")"
      ],
      "metadata": {
        "id": "OlBWKfMg_JG-"
      }
    },
    {
      "cell_type": "code",
      "source": [
        "### Practical Questions"
      ],
      "metadata": {
        "id": "583bCTg7AwZP"
      },
      "execution_count": null,
      "outputs": []
    },
    {
      "cell_type": "code",
      "source": [
        "# 1. Create a parent class Animal with a method speak() that prints a generic\n",
        "#  message. Create a child class Dog that overrides the speak() method to print\n",
        "#  \"Bark!\".\n",
        "\n",
        "\n",
        "\n",
        "class Animal:\n",
        "    def speak(self):\n",
        "        print(\"Animal speaks\")\n",
        "\n",
        "class Dog(Animal):\n",
        "    def speak(self):\n",
        "        print(\"Bark!\")\n",
        "\n",
        "d = Dog()\n",
        "d.speak()"
      ],
      "metadata": {
        "colab": {
          "base_uri": "https://localhost:8080/"
        },
        "id": "6dZRaoncBW1Q",
        "outputId": "dd030409-2e25-497b-f75b-006316f58941"
      },
      "execution_count": 3,
      "outputs": [
        {
          "output_type": "stream",
          "name": "stdout",
          "text": [
            "Bark!\n"
          ]
        }
      ]
    },
    {
      "cell_type": "code",
      "source": [
        "# 2. Write a program to create an abstract class Shape with a method area().\n",
        "#  Derive classes Circle and Rectangle from it and implement the area() method\n",
        "#  in both.\n",
        "\n",
        "from abc import ABC, abstractmethod\n",
        "import math\n",
        "\n",
        "class Shape(ABC):\n",
        "    @abstractmethod\n",
        "    def area(self):\n",
        "        pass\n",
        "\n",
        "class Circle(Shape):\n",
        "    def __init__(self, r): self.r = r\n",
        "    def area(self): return math.pi * self.r ** 2\n",
        "\n",
        "class Rectangle(Shape):\n",
        "    def __init__(self, l, b): self.l, self.b = l, b\n",
        "    def area(self): return self.l * self.b\n",
        "\n",
        "print(Circle(5).area(), Rectangle(4,6).area())"
      ],
      "metadata": {
        "colab": {
          "base_uri": "https://localhost:8080/"
        },
        "id": "h7tr8X2YBmDs",
        "outputId": "00e0290f-0347-4d16-cf2e-9cde12a7a8ad"
      },
      "execution_count": 5,
      "outputs": [
        {
          "output_type": "stream",
          "name": "stdout",
          "text": [
            "78.53981633974483 24\n"
          ]
        }
      ]
    },
    {
      "cell_type": "code",
      "source": [
        "# 3. Implement a multi-level inheritance scenario where a class Vehicle has an attribute type. Derive a class Car and further derive a class ElectricCar that adds a battery attribute.\n",
        "\n",
        "class Vehicle:\n",
        "    def __init__(self, type): self.type = type\n",
        "\n",
        "class Car(Vehicle):\n",
        "    def __init__(self, type, brand): super().__init__(type); self.brand = brand\n",
        "\n",
        "class ElectricCar(Car):\n",
        "    def __init__(self, type, brand, battery):\n",
        "        super().__init__(type, brand)\n",
        "        self.battery = battery\n",
        "\n",
        "e = ElectricCar(\"Car\", \"Tesla\", \"100kWh\")\n",
        "print(e.type, e.brand, e.battery)"
      ],
      "metadata": {
        "colab": {
          "base_uri": "https://localhost:8080/"
        },
        "id": "NLOG0SaZBzpB",
        "outputId": "fb2c128e-d50f-44a1-9e6f-7d1bea2943bf"
      },
      "execution_count": 6,
      "outputs": [
        {
          "output_type": "stream",
          "name": "stdout",
          "text": [
            "Car Tesla 100kWh\n"
          ]
        }
      ]
    },
    {
      "cell_type": "code",
      "source": [
        "# 4. Demonstrate polymorphism by creating a base class Bird with a method fly(). Create two derived classes Sparrow and Penguin that override the fly() method.\n",
        "\n",
        "\n",
        "class Bird:\n",
        "    def fly(self): print(\"Some birds can fly\")\n",
        "\n",
        "class Sparrow(Bird):\n",
        "    def fly(self): print(\"Sparrow flies high\")\n",
        "\n",
        "class Penguin(Bird):\n",
        "    def fly(self): print(\"Penguins cannot fly\")\n",
        "\n",
        "for bird in [Sparrow(), Penguin()]:\n",
        "    bird.fly()"
      ],
      "metadata": {
        "colab": {
          "base_uri": "https://localhost:8080/"
        },
        "id": "V3x075PJB633",
        "outputId": "38c57335-c3f3-47be-8b1e-f2b16f7e41a9"
      },
      "execution_count": 7,
      "outputs": [
        {
          "output_type": "stream",
          "name": "stdout",
          "text": [
            "Sparrow flies high\n",
            "Penguins cannot fly\n"
          ]
        }
      ]
    },
    {
      "cell_type": "code",
      "source": [
        "# 5. Write a program to demonstrate encapsulation by creating a class BankAccount with private attributes balance and methods to deposit, withdraw, and check balance.\n",
        "\n",
        "class BankAccount:\n",
        "    def __init__(self, balance=0):\n",
        "        self.__balance = balance\n",
        "\n",
        "    def deposit(self, amt): self.__balance += amt\n",
        "    def withdraw(self, amt): self.__balance -= amt\n",
        "    def get_balance(self): return self.__balance\n",
        "\n",
        "acc = BankAccount(1000)\n",
        "acc.deposit(500)\n",
        "print(acc.get_balance())"
      ],
      "metadata": {
        "colab": {
          "base_uri": "https://localhost:8080/"
        },
        "id": "sN9XqocTB_Y9",
        "outputId": "01f8fe27-c53d-4359-8961-0cfc1fbc33a0"
      },
      "execution_count": 8,
      "outputs": [
        {
          "output_type": "stream",
          "name": "stdout",
          "text": [
            "1500\n"
          ]
        }
      ]
    },
    {
      "cell_type": "code",
      "source": [
        "# 6. Demonstrate runtime polymorphism using a method play() in a base class Instrument. Derive classes Guitar and Piano that implement their own version of play().\n",
        "\n",
        "\n",
        "class Instrument:\n",
        "    def play(self): print(\"Instrument playing\")\n",
        "\n",
        "class Guitar(Instrument):\n",
        "    def play(self): print(\"Guitar strumming\")\n",
        "\n",
        "class Piano(Instrument):\n",
        "    def play(self): print(\"Piano playing melody\")\n",
        "\n",
        "for i in [Guitar(), Piano()]:\n",
        "    i.play()"
      ],
      "metadata": {
        "colab": {
          "base_uri": "https://localhost:8080/"
        },
        "id": "rtO6iDVJCD4i",
        "outputId": "adbe8b33-91f4-42c6-b1af-77be3e19090d"
      },
      "execution_count": 9,
      "outputs": [
        {
          "output_type": "stream",
          "name": "stdout",
          "text": [
            "Guitar strumming\n",
            "Piano playing melody\n"
          ]
        }
      ]
    },
    {
      "cell_type": "code",
      "source": [
        "# 7. Create a class MathOperations with a class method add_numbers() to add two numbers and a static method subtract_numbers() to subtract two numbers.\n",
        "\n",
        "\n",
        "class MathOperations:\n",
        "    @classmethod\n",
        "    def add_numbers(cls, a, b): return a + b\n",
        "\n",
        "    @staticmethod\n",
        "    def subtract_numbers(a, b): return a - b\n",
        "\n",
        "print(MathOperations.add_numbers(5,3))\n",
        "print(MathOperations.subtract_numbers(8,2))"
      ],
      "metadata": {
        "colab": {
          "base_uri": "https://localhost:8080/"
        },
        "id": "BioaYj0uCHvI",
        "outputId": "131dd785-7b92-4416-c806-59bf5a304dcc"
      },
      "execution_count": 10,
      "outputs": [
        {
          "output_type": "stream",
          "name": "stdout",
          "text": [
            "8\n",
            "6\n"
          ]
        }
      ]
    },
    {
      "cell_type": "code",
      "source": [
        "# 8. Implement a class Person with a class method to count the total number of persons created.\n",
        "\n",
        "class Person:\n",
        "    count = 0\n",
        "    def __init__(self): Person.count += 1\n",
        "    @classmethod\n",
        "    def total_persons(cls): return cls.count\n",
        "\n",
        "p1, p2 = Person(), Person()\n",
        "print(Person.total_persons())"
      ],
      "metadata": {
        "colab": {
          "base_uri": "https://localhost:8080/"
        },
        "id": "nnLm4YDpCMSI",
        "outputId": "99a4b7b1-ce8a-46f9-f07a-f48228c32a57"
      },
      "execution_count": 11,
      "outputs": [
        {
          "output_type": "stream",
          "name": "stdout",
          "text": [
            "2\n"
          ]
        }
      ]
    },
    {
      "cell_type": "code",
      "source": [
        "# 9. Write a class Fraction with attributes numerator and denominator. Override the str method to display the fraction as \"numerator/denominator\".\n",
        "\n",
        "\n",
        "class Fraction:\n",
        "    def __init__(self, n, d): self.n, self.d = n, d\n",
        "    def __str__(self): return f\"{self.n}/{self.d}\"\n",
        "\n",
        "print(Fraction(3,4))"
      ],
      "metadata": {
        "colab": {
          "base_uri": "https://localhost:8080/"
        },
        "id": "QXKlK5wOCRnc",
        "outputId": "01ae9e78-a052-4656-e334-609cf0622bfc"
      },
      "execution_count": 12,
      "outputs": [
        {
          "output_type": "stream",
          "name": "stdout",
          "text": [
            "3/4\n"
          ]
        }
      ]
    },
    {
      "cell_type": "code",
      "source": [
        "\n",
        "# 10. Demonstrate operator overloading by creating a class Vector and overriding the add method to add two vectors.\n",
        "\n",
        "\n",
        "class Vector:\n",
        "    def __init__(self, x, y): self.x, self.y = x, y\n",
        "    def __add__(self, other): return Vector(self.x+other.x, self.y+other.y)\n",
        "    def __str__(self): return f\"({self.x}, {self.y})\"\n",
        "\n",
        "print(Vector(2,3) + Vector(4,5))"
      ],
      "metadata": {
        "colab": {
          "base_uri": "https://localhost:8080/"
        },
        "id": "l1wulSQJCWKe",
        "outputId": "f8349775-ab09-405e-dfdb-84bef80bf97f"
      },
      "execution_count": 13,
      "outputs": [
        {
          "output_type": "stream",
          "name": "stdout",
          "text": [
            "(6, 8)\n"
          ]
        }
      ]
    },
    {
      "cell_type": "code",
      "source": [
        "# 11. Create a class Person with attributes name and age. Add a method greet() that prints \"Hello, my name is {name} and I am {age} years old.\"\n",
        "\n",
        "\n",
        "class Person:\n",
        "    def __init__(self, name, age): self.name, self.age = name, age\n",
        "    def greet(self): print(f\"Hello, my name is {self.name} and I am {self.age} years old.\")\n",
        "\n",
        "Person(\"Jatin\", 22).greet()"
      ],
      "metadata": {
        "colab": {
          "base_uri": "https://localhost:8080/"
        },
        "id": "QXv9oEPMCf0a",
        "outputId": "99a259f3-7293-40c1-9513-f7dd8b41cf58"
      },
      "execution_count": 14,
      "outputs": [
        {
          "output_type": "stream",
          "name": "stdout",
          "text": [
            "Hello, my name is Jatin and I am 22 years old.\n"
          ]
        }
      ]
    },
    {
      "cell_type": "code",
      "source": [
        "# 12. Implement a class Student with attributes name and grades. Create a method average_grade() to compute the average of the grades.\n",
        "\n",
        "\n",
        "class Student:\n",
        "    def __init__(self, name, grades): self.name, self.grades = name, grades\n",
        "    def average_grade(self): return sum(self.grades)/len(self.grades)\n",
        "\n",
        "print(Student(\"Amit\", [80,90,85]).average_grade())\n"
      ],
      "metadata": {
        "colab": {
          "base_uri": "https://localhost:8080/"
        },
        "id": "kedrawMpCiSP",
        "outputId": "61337bd7-f01f-42b4-9d4f-e70556bbcbc4"
      },
      "execution_count": 15,
      "outputs": [
        {
          "output_type": "stream",
          "name": "stdout",
          "text": [
            "85.0\n"
          ]
        }
      ]
    },
    {
      "cell_type": "code",
      "source": [
        "# 13. Create a class Rectangle with methods set_dimensions() to set the dimensions and area() to calculate the area.\n",
        "\n",
        "\n",
        "class Rectangle:\n",
        "    def set_dimensions(self, l, b): self.l, self.b = l, b\n",
        "    def area(self): return self.l * self.b\n",
        "\n",
        "r = Rectangle()\n",
        "r.set_dimensions(5, 6)\n",
        "print(r.area())"
      ],
      "metadata": {
        "colab": {
          "base_uri": "https://localhost:8080/"
        },
        "id": "TMmaLlRVCmbG",
        "outputId": "fe911c7d-4597-4361-c40f-4770153f38c8"
      },
      "execution_count": 16,
      "outputs": [
        {
          "output_type": "stream",
          "name": "stdout",
          "text": [
            "30\n"
          ]
        }
      ]
    },
    {
      "cell_type": "code",
      "source": [
        "# 14. Create a class Employee with a method calculate_salary() that computes the salary based on hours worked and hourly rate. Create a derived class Manager that adds a bonus to the salary.\n",
        "\n",
        "class Employee:\n",
        "    def calculate_salary(self, hours, rate): return hours * rate\n",
        "\n",
        "class Manager(Employee):\n",
        "    def calculate_salary(self, hours, rate, bonus): return super().calculate_salary(hours, rate) + bonus\n",
        "\n",
        "print(Manager().calculate_salary(40, 100, 500))"
      ],
      "metadata": {
        "colab": {
          "base_uri": "https://localhost:8080/"
        },
        "id": "577OjM3tCqMn",
        "outputId": "f3036b45-5929-44f4-b363-23410de00b4b"
      },
      "execution_count": 17,
      "outputs": [
        {
          "output_type": "stream",
          "name": "stdout",
          "text": [
            "4500\n"
          ]
        }
      ]
    },
    {
      "cell_type": "code",
      "source": [
        "# 15. Create a class Product with attributes name, price, and quantity. Implement a method total_price() that calculates the total price of the product.\n",
        "\n",
        "\n",
        "class Product:\n",
        "    def __init__(self, name, price, qty): self.name, self.price, self.qty = name, price, qty\n",
        "    def total_price(self): return self.price * self.qty\n",
        "\n",
        "print(Product(\"Pen\", 10, 5).total_price())"
      ],
      "metadata": {
        "colab": {
          "base_uri": "https://localhost:8080/"
        },
        "id": "VE2OaksXCuwE",
        "outputId": "903dd75e-157d-4586-9105-b6a71a59c434"
      },
      "execution_count": 18,
      "outputs": [
        {
          "output_type": "stream",
          "name": "stdout",
          "text": [
            "50\n"
          ]
        }
      ]
    },
    {
      "cell_type": "code",
      "source": [
        "# 16. Create a class Animal with an abstract method sound(). Create two derived classes Cow and Sheep that implement the sound() method.\n",
        "\n",
        "from abc import ABC, abstractmethod\n",
        "\n",
        "class Animal(ABC):\n",
        "    @abstractmethod\n",
        "    def sound(self): pass\n",
        "\n",
        "class Cow(Animal):\n",
        "    def sound(self): print(\"Moo\")\n",
        "\n",
        "class Sheep(Animal):\n",
        "    def sound(self): print(\"Baa\")\n",
        "\n",
        "Cow().sound(); Sheep().sound()"
      ],
      "metadata": {
        "colab": {
          "base_uri": "https://localhost:8080/"
        },
        "id": "kPpFjS0NCyfu",
        "outputId": "663bf9f9-abe6-4e5e-bccf-6d68b6e005d8"
      },
      "execution_count": 19,
      "outputs": [
        {
          "output_type": "stream",
          "name": "stdout",
          "text": [
            "Moo\n",
            "Baa\n"
          ]
        }
      ]
    },
    {
      "cell_type": "code",
      "source": [
        "# 17. Create a class Book with attributes title, author, and year_published. Add a method get_book_info() that returns a formatted string with the book's details.\n",
        "\n",
        "class Book:\n",
        "    def __init__(self, title, author, year): self.title, self.author, self.year = title, author, year\n",
        "    def get_book_info(self): return f\"'{self.title}' by {self.author}, {self.year}\"\n",
        "\n",
        "print(Book(\"1984\", \"Orwell\", 1949).get_book_info())"
      ],
      "metadata": {
        "colab": {
          "base_uri": "https://localhost:8080/"
        },
        "id": "Nrn2PdcuC3kx",
        "outputId": "7b3bedec-9ff7-4737-e73a-5ef1f4fe9fa7"
      },
      "execution_count": 20,
      "outputs": [
        {
          "output_type": "stream",
          "name": "stdout",
          "text": [
            "'1984' by Orwell, 1949\n"
          ]
        }
      ]
    },
    {
      "cell_type": "code",
      "source": [
        "# 18. Create a class House with attributes address and price. Create a derived class Mansion that adds an attribute number_of_rooms.\n",
        "\n",
        "class House:\n",
        "    def __init__(self, address, price): self.address, self.price = address, price\n",
        "\n",
        "class Mansion(House):\n",
        "    def __init__(self, address, price, rooms):\n",
        "        super().__init__(address, price)\n",
        "        self.rooms = rooms\n",
        "\n",
        "m = Mansion(\"Delhi\", 50000000, 10)\n",
        "print(m.address, m.price, m.rooms)"
      ],
      "metadata": {
        "colab": {
          "base_uri": "https://localhost:8080/"
        },
        "id": "_Cw9GQXxC-Ky",
        "outputId": "3b43a30a-a626-446f-da03-f53ec2ad7068"
      },
      "execution_count": 21,
      "outputs": [
        {
          "output_type": "stream",
          "name": "stdout",
          "text": [
            "Delhi 50000000 10\n"
          ]
        }
      ]
    }
  ]
}